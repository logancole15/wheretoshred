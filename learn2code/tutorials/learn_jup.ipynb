{
 "cells": [
  {
   "cell_type": "markdown",
   "metadata": {},
   "source": [
    "If statements and comparisons\n",
    "\n",
    "Notes:\n",
    "\n",
    "==  equal to\n",
    "!=  not equal to"
   ]
  },
  {
   "cell_type": "code",
   "execution_count": 1,
   "metadata": {},
   "outputs": [
    {
     "name": "stdout",
     "output_type": "stream",
     "text": [
      "300\n"
     ]
    }
   ],
   "source": [
    "def max_num(num1, num2, num3):\n",
    "    if num1 >= num2 and num1 >= num3:\n",
    "        return num1\n",
    "    elif num2 >= num1 and num2 >= num3:\n",
    "        return num2\n",
    "    else:\n",
    "        return num3\n",
    "\n",
    "print(max_num(300,40,5))"
   ]
  },
  {
   "cell_type": "markdown",
   "metadata": {},
   "source": [
    "Building a better calculator in python\n",
    "\n",
    "Notes:\n",
    "\n",
    "float converts the input into a number, throws an error if input is not a number"
   ]
  },
  {
   "cell_type": "code",
   "execution_count": 4,
   "metadata": {},
   "outputs": [
    {
     "name": "stdout",
     "output_type": "stream",
     "text": [
      "Wrong operator\n"
     ]
    }
   ],
   "source": [
    "num1 = float(input(\"Enter first number: \"))\n",
    "op = input(\"Enter operator: \")\n",
    "num2 = float(input(\"Enter second number: \"))\n",
    "\n",
    "if op == \"+\":\n",
    "    print(num1 + num2)\n",
    "elif op == \"-\":\n",
    "    print(num1 - num2)\n",
    "elif op == \"/\":\n",
    "    print(num1 / num2)\n",
    "elif op == \"*\":\n",
    "    print(num1 * num2)\n",
    "else:\n",
    "    print(\"Wrong operator\")\n"
   ]
  },
  {
   "cell_type": "markdown",
   "metadata": {},
   "source": [
    "Dictionaries\n",
    "\n",
    "Notes:\n",
    "\n",
    "Define key value pairs inside of dictionary ({})\n",
    "Every key has to be unique (\"Jan\" two times is a no go)\n",
    "If the .get(\"\") is not valid, get a \"None\", can add a ,\"Not valid key\" inside of .get(\"\") to get that text\n",
    "Can find more python dictionary functions on google\n",
    "\n",
    "Basic funcitons:\n",
    "\n",
    "dictionary.get()"
   ]
  },
  {
   "cell_type": "code",
   "execution_count": 6,
   "metadata": {},
   "outputs": [
    {
     "name": "stdout",
     "output_type": "stream",
     "text": [
      "December\n"
     ]
    }
   ],
   "source": [
    "monthConversions = {\n",
    "    \"Jan\": \"January\",\n",
    "    \"Feb\": \"February\",\n",
    "    \"Mar\": \"March\",\n",
    "    \"Apr\": \"April\",\n",
    "    \"May\": \"May\",\n",
    "    \"Jun\": \"June\",\n",
    "    \"Jul\": \"July\",\n",
    "    \"Aug\": \"August\",\n",
    "    \"Sep\": \"September\",\n",
    "    \"Oct\": \"October\",\n",
    "    \"Nov\": \"November\",\n",
    "    \"Dec\": \"December\",\n",
    "}\n",
    "\n",
    "print(monthConversions.get(\"Dec\"))"
   ]
  },
  {
   "cell_type": "markdown",
   "metadata": {},
   "source": [
    "While Loops\n",
    "\n",
    "Notes:\n",
    "Keep looping through \"while\" loop while \"condition\" is true\n",
    "i = i + 1 is equal to i += 1\n",
    "\n",
    "Basic funcitons:\n",
    "\n",
    "\n",
    "\n"
   ]
  },
  {
   "cell_type": "code",
   "execution_count": 7,
   "metadata": {},
   "outputs": [
    {
     "name": "stdout",
     "output_type": "stream",
     "text": [
      "1\n",
      "2\n",
      "3\n",
      "4\n",
      "5\n",
      "6\n",
      "7\n",
      "8\n",
      "9\n",
      "10\n",
      "Done with loop\n"
     ]
    }
   ],
   "source": [
    "i = 1\n",
    "while i <=10:\n",
    "    print(i)\n",
    "    i = i + 1\n",
    "print(\"Done with loop\")"
   ]
  },
  {
   "cell_type": "markdown",
   "metadata": {},
   "source": [
    "Building a Guessing Game\n",
    "\n",
    "Notes:\n",
    "\n",
    "\n",
    "Basic funcitons:"
   ]
  },
  {
   "cell_type": "code",
   "execution_count": 11,
   "metadata": {},
   "outputs": [
    {
     "name": "stdout",
     "output_type": "stream",
     "text": [
      "You win!\n"
     ]
    }
   ],
   "source": [
    "secret_word = \"giraffe\"\n",
    "guess = \"\"\n",
    "guess_count = 0\n",
    "guess_limit = 3\n",
    "out_of_guesses = False\n",
    "\n",
    "while guess != secret_word and not(out_of_guesses):\n",
    "    if guess_count < guess_limit:\n",
    "        guess = input(\"Enter guess: \")\n",
    "        guess_count += 1\n",
    "    else:\n",
    "        out_of_guesses = True\n",
    "\n",
    "if out_of_guesses:\n",
    "    print(\"Out of guesses, loser\")\n",
    "else:        \n",
    "    print(\"You win!\")"
   ]
  },
  {
   "cell_type": "markdown",
   "metadata": {},
   "source": [
    "For Loops\n",
    "\n",
    "Notes:\n",
    "\n",
    "\n",
    "Basic funcitons:"
   ]
  },
  {
   "cell_type": "code",
   "execution_count": 18,
   "metadata": {},
   "outputs": [
    {
     "name": "stdout",
     "output_type": "stream",
     "text": [
      "w\n",
      "o\n",
      "r\n",
      "d\n"
     ]
    }
   ],
   "source": [
    "for letter in \"word\":\n",
    "    print(letter)"
   ]
  },
  {
   "cell_type": "code",
   "execution_count": 19,
   "metadata": {},
   "outputs": [
    {
     "name": "stdout",
     "output_type": "stream",
     "text": [
      "3\n",
      "4\n",
      "5\n",
      "6\n",
      "7\n",
      "8\n",
      "9\n"
     ]
    }
   ],
   "source": [
    "for index in range(3, 10):\n",
    "    print(index)"
   ]
  },
  {
   "cell_type": "code",
   "execution_count": 17,
   "metadata": {},
   "outputs": [
    {
     "name": "stdout",
     "output_type": "stream",
     "text": [
      "Jim\n",
      "Karen\n",
      "Kevin\n"
     ]
    }
   ],
   "source": [
    "friends = [\"Jim\", \"Karen\", \"Kevin\"]\n",
    "\n",
    "for index in range(len(friends)):\n",
    "    print(friends[index])"
   ]
  },
  {
   "cell_type": "code",
   "execution_count": 20,
   "metadata": {},
   "outputs": [
    {
     "name": "stdout",
     "output_type": "stream",
     "text": [
      "first iteration\n",
      "Not first iteration\n",
      "Not first iteration\n",
      "Not first iteration\n",
      "Not first iteration\n"
     ]
    }
   ],
   "source": [
    "for index in range(5):\n",
    "    if index == 0:\n",
    "        print(\"first iteration\")\n",
    "    else:\n",
    "        print(\"Not first iteration\")"
   ]
  },
  {
   "cell_type": "markdown",
   "metadata": {},
   "source": [
    "Exponent Function\n",
    "\n",
    "Notes:\n",
    "\n",
    "Creating an exponent function using for loops\n",
    "\n",
    "\n",
    "Basic funcitons:"
   ]
  },
  {
   "cell_type": "code",
   "execution_count": 24,
   "metadata": {},
   "outputs": [
    {
     "name": "stdout",
     "output_type": "stream",
     "text": [
      "8\n"
     ]
    }
   ],
   "source": [
    "def raise_to_power(base_num, pow_num):\n",
    "    result = 1\n",
    "    for index in range(pow_num):\n",
    "        result = result * base_num\n",
    "    return result\n",
    "\n",
    "print(raise_to_power(2,3))"
   ]
  },
  {
   "cell_type": "markdown",
   "metadata": {},
   "source": [
    "2D Lists and Nested Loops\n",
    "\n",
    "Notes:\n",
    "\n",
    "\n",
    "Basic funcitons:"
   ]
  },
  {
   "cell_type": "code",
   "execution_count": 26,
   "metadata": {},
   "outputs": [
    {
     "name": "stdout",
     "output_type": "stream",
     "text": [
      "8\n"
     ]
    }
   ],
   "source": [
    "number_grid = [\n",
    "    [1,2,3],\n",
    "    [4,5,6],\n",
    "    [7,8,9],\n",
    "    [0]\n",
    "]\n",
    "\n",
    "print(number_grid[2][1])"
   ]
  },
  {
   "cell_type": "code",
   "execution_count": 28,
   "metadata": {},
   "outputs": [
    {
     "name": "stdout",
     "output_type": "stream",
     "text": [
      "1\n",
      "2\n",
      "3\n",
      "4\n",
      "5\n",
      "6\n",
      "7\n",
      "8\n",
      "9\n",
      "0\n"
     ]
    }
   ],
   "source": [
    "number_grid = [\n",
    "    [1,2,3],\n",
    "    [4,5,6],\n",
    "    [7,8,9],\n",
    "    [0]\n",
    "]\n",
    "\n",
    "for row in number_grid:\n",
    "    for col in row:\n",
    "        print(col)"
   ]
  },
  {
   "cell_type": "markdown",
   "metadata": {},
   "source": [
    "Building a translator\n",
    "\n",
    "Notes:\n",
    "\n",
    "Giraffe language -> converts all vowels to g's\n",
    "\n",
    "Basic funcitons:"
   ]
  },
  {
   "cell_type": "code",
   "execution_count": 30,
   "metadata": {},
   "outputs": [
    {
     "name": "stdout",
     "output_type": "stream",
     "text": [
      "Gn\n"
     ]
    }
   ],
   "source": [
    "def translate(phrase):\n",
    "    translation = \"\"\n",
    "    for letter in phrase:\n",
    "        if letter.lower() in \"aeiou\":\n",
    "            if letter.isupper():\n",
    "\n",
    "                translation = translation + \"G\"\n",
    "            else:\n",
    "                translation = translation + \"g\"\n",
    "        else:\n",
    "            translation = translation + letter\n",
    "    return translation\n",
    "\n",
    "print(translate(input(\"Enter a phrase: \")))"
   ]
  },
  {
   "cell_type": "markdown",
   "metadata": {},
   "source": [
    "Comments\n",
    "\n",
    "Notes:\n",
    "\n",
    "Useful for humans to read code easier\n",
    "Use the # symbol ( ''' also works as long as you also end in ''' )\n",
    "Also useful for commenting out lines\n",
    "\n",
    "Basic funcitons:\n",
    "\n",
    "ctrl + / ---> VS code add a comment or remove comment\n"
   ]
  },
  {
   "cell_type": "markdown",
   "metadata": {},
   "source": [
    "Try/Except\n",
    "\n",
    "\n",
    "Notes:\n",
    "\n",
    "Useful for handling errors\n",
    "\n",
    "Use specific excepts -> Zerodivision etc... google this\n",
    "\n",
    "Basic funcitons:\n",
    "\n"
   ]
  },
  {
   "cell_type": "code",
   "execution_count": 33,
   "metadata": {},
   "outputs": [
    {
     "name": "stdout",
     "output_type": "stream",
     "text": [
      "Invalid Input\n"
     ]
    }
   ],
   "source": [
    "try:\n",
    "    number = int(input(\"Enter a number: \"))\n",
    "    print(number)\n",
    "except:\n",
    "    print(\"Invalid Input\")\n",
    "    "
   ]
  },
  {
   "cell_type": "markdown",
   "metadata": {},
   "source": [
    "Reading files\n",
    "\n",
    "\n",
    "Notes:\n",
    "\n",
    "can use open(\"filename.txt\") with no path if the file is in the same directory as python script\n",
    "whenever you open file, aslo want to close the file\n",
    "\n",
    "Basic funcitons:\n",
    "\n",
    "open(\"employees.txt\",\"w\") - write\n",
    "\n",
    "open(\"employees.txt\",\"a\") - append\n",
    "\n",
    "open(\"employees.txt\",\"r+\") - read and write\n",
    "\n",
    "open(\"employees.txt\",\"r\") - read only\n",
    "\n",
    "print(employee_file.readable()) -> True if the file is readable, False if the file is only writeable, appendable, etc...\n",
    "\n",
    "print(employee_file.read()) -> read file\n",
    "print(employee_file.readline()) -> reads one line of file, can repeat this to print more lines\n",
    "print(employee_file.readlines()) -> takes all the lines in file and puts them in an array\n",
    "print(employee_file.readlines()[1]) -> just the first line again\n"
   ]
  },
  {
   "cell_type": "code",
   "execution_count": null,
   "metadata": {},
   "outputs": [],
   "source": [
    "employee_file = open(\"employees.txt\",\"r\")\n",
    "for employee in employee_file.readlines():\n",
    "    print(employee)\n",
    "\n",
    "employee_file.close()"
   ]
  },
  {
   "cell_type": "markdown",
   "metadata": {},
   "source": [
    "Writing to files\n",
    "\n",
    "\n",
    "Notes:\n",
    "\n",
    "\n",
    "\n",
    "Basic funcitons:\n",
    "employee_file = open(\"employees.txt\",\"a\") -> opens the file, and makes it appendable\n",
    "employee_file.write(\"Another employee\") -> writes to the open file\n",
    "employee_file.write(\"\\nA third employee\") -> adds the third employee string to the next line\n",
    "\n",
    "employee_file = open(\"employees.txt\",\"w\") \n",
    "employee_file.write(\"\\nA third employee\") -> overrides the file instead of just appending to it\n",
    "\n",
    "employee_file = open(\"employees1.txt\",\"w\") \n",
    "employee_file.write(\"\\nA third employee\") -> creates new file and writes to it"
   ]
  },
  {
   "cell_type": "code",
   "execution_count": null,
   "metadata": {},
   "outputs": [],
   "source": [
    "employee_file = open(\"employees.txt\",\"w\")\n",
    "employee_file.write(\"\\nA third employee\")\n",
    "\n",
    "employee_file.close()"
   ]
  },
  {
   "cell_type": "markdown",
   "metadata": {},
   "source": [
    "Modules and Pip\n",
    "\n",
    "\n",
    "Notes:\n",
    "\n",
    "Use functions that are stored in other .py files\n",
    "\n",
    "google \"list of python modules\" -> version 3 -> a list of python modules that are useful and free to use\n",
    "\n",
    "can also find 3rd party python modules and install them with \"pip install XXX\"\n",
    "\n",
    "Check your computer has pip with \"pip --version\", if you don't, install pip\n",
    "\n",
    "\n",
    "Basic funcitons:\n",
    "\n",
    "import name_of_file  --> everything inside of name_of_file.py\n",
    "\n",
    "print(useful_tools.roll_dice(10))  --> uses the roll_dice function inside of the useful_tools.py file"
   ]
  },
  {
   "cell_type": "markdown",
   "metadata": {},
   "source": [
    "Classes and Objects\n",
    "\n",
    "\n",
    "Notes:\n",
    "\n",
    "With a class you can define your own data type\n",
    "We are making a Student class\n",
    "Inside this class we can define a bunch of attributes\n",
    "\n",
    "An object is an actual student that has a name, major, gpa, etc...\n",
    "student1 is an object\n",
    "\n",
    "name, major, gpa, probation status are all attributes\n",
    "\n",
    "Basic funcitons:\n",
    "\n",
    "def __init__(self): --> \"initialize function\""
   ]
  },
  {
   "cell_type": "code",
   "execution_count": null,
   "metadata": {},
   "outputs": [],
   "source": [
    "# These are the contents of Student.py\n",
    "class Student:\n",
    "    def __init__(self, name, major, gpa, is_on_probation):\n",
    "        self.name = name\n",
    "        self.major = major\n",
    "        self.gpa = gpa\n",
    "        self.is_on_probation = is_on_probation\n"
   ]
  },
  {
   "cell_type": "code",
   "execution_count": 2,
   "metadata": {},
   "outputs": [
    {
     "name": "stdout",
     "output_type": "stream",
     "text": [
      "3.9\n"
     ]
    }
   ],
   "source": [
    "from Student import Student\n",
    "\n",
    "student1 = Student(\"Logan\",\"Engineering\",3.6,False)\n",
    "student2 = Student(\"Andrew\",\"Physics\",3.9,True)\n",
    "\n",
    "print(student2.gpa)"
   ]
  },
  {
   "cell_type": "markdown",
   "metadata": {},
   "source": [
    "Building a multiple choice quiz\n",
    "\n",
    "\n",
    "Notes:\n",
    "\n",
    "\n",
    "\n",
    "Basic funcitons:"
   ]
  },
  {
   "cell_type": "code",
   "execution_count": null,
   "metadata": {},
   "outputs": [],
   "source": [
    "# These are the contents of Question.py\n",
    "class Question:\n",
    "    def __init__(self, prompt, answer):\n",
    "        self.prompt = prompt\n",
    "        self.answer = answer\n"
   ]
  },
  {
   "cell_type": "code",
   "execution_count": null,
   "metadata": {},
   "outputs": [],
   "source": [
    "from Question import Question\n",
    "\n",
    "answers = []\n",
    "questions = [\n",
    "    Question(question_prompts[0], \"a\"),\n",
    "    Question(question_prompts[1], \"c\"),\n",
    "    Question(question_prompts[2], \"b\"),\n",
    "\n",
    "]\n",
    "\n",
    "def run_test(questions):\n",
    "    score = 0\n",
    "    for question in questions:\n",
    "        answer = input(question.prompt)\n",
    "        if answer == question.answer:\n",
    "            score += 1\n",
    "    print(\"You got \" + str(score) + \"/\" + str(len(questions)) + \"correct\")\n",
    "\n",
    "run_test(questions)"
   ]
  },
  {
   "cell_type": "markdown",
   "metadata": {},
   "source": [
    "Object Functions\n",
    "\n",
    "\n",
    "Notes:\n",
    "\n",
    "\n",
    "\n",
    "Basic funcitons:"
   ]
  },
  {
   "cell_type": "code",
   "execution_count": null,
   "metadata": {},
   "outputs": [],
   "source": [
    "# These are the contents of Student.py\n",
    "class Student:\n",
    "    def __init__(self, name, major, gpa):\n",
    "        self.name = name\n",
    "        self.major = major\n",
    "        self.gpa = gpa\n",
    "\n",
    "    def on_honor_roll(self):\n",
    "        if self.gpa >= 3.5:\n",
    "            return True\n",
    "        else:\n",
    "            return False"
   ]
  },
  {
   "cell_type": "code",
   "execution_count": null,
   "metadata": {},
   "outputs": [],
   "source": [
    "from Student import Student\n",
    "\n",
    "student1 = Student(\"Logan\",\"Engineering\",3.6,False)\n",
    "student2 = Student(\"Andrew\",\"Physics\",3.9,True)\n",
    "\n",
    "print(student1.on_honor_roll())\n"
   ]
  },
  {
   "cell_type": "markdown",
   "metadata": {},
   "source": [
    "Inheritance\n",
    "\n",
    "\n",
    "Notes:\n",
    "\n",
    "Chef.py is a class, the chef can make 3 dishes\n",
    "\n",
    "ChineseChef.py is another class that can do everthing the chef can, but also can make fried rice\n",
    "\n",
    "by defining ChineseChef with Chef, inherit all the attributes inside of Chef without having to copy and paste them\n",
    "\n",
    "Easy to make changes to the attributes inside of Chef too\n",
    "\n",
    "Basic funcitons:"
   ]
  },
  {
   "cell_type": "code",
   "execution_count": null,
   "metadata": {},
   "outputs": [],
   "source": [
    "from Chef import Chef\n",
    "\n",
    "myChef = Chef()\n",
    "myChef.make_chicken()\n",
    "\n",
    "myChineseChef = ChineseChef()\n",
    "myChineseChef.make_fried_rice()"
   ]
  },
  {
   "cell_type": "code",
   "execution_count": null,
   "metadata": {},
   "outputs": [],
   "source": [
    "from Chef import Chef\n",
    "\n",
    "class ChineseChef(Chef):\n",
    "    def make_special_dish():\n",
    "        print(orange_chicken)"
   ]
  },
  {
   "cell_type": "markdown",
   "metadata": {},
   "source": [
    "Python Intepreter\n",
    "\n",
    "\n",
    "Notes:\n",
    "\n",
    "Interact with the computer using the terminal. Type \"python3\" -> opens python in terminal\n",
    "\n",
    "Can print, define variables, define functions or whatever python code we want\n",
    "\n",
    "Basic funcitons:\n",
    "\n",
    "python3\n"
   ]
  },
  {
   "cell_type": "markdown",
   "metadata": {},
   "source": [
    "Python Intermediate Video"
   ]
  },
  {
   "cell_type": "markdown",
   "metadata": {},
   "source": [
    "List\n",
    "\n",
    "Notes:\n",
    "\n",
    "ordered, mutable, allows duplicate\n",
    "\n",
    "list = [\"banana\",\"cherry\"]"
   ]
  },
  {
   "cell_type": "code",
   "execution_count": null,
   "metadata": {},
   "outputs": [],
   "source": []
  }
 ],
 "metadata": {
  "kernelspec": {
   "display_name": "Python 3.8.2 64-bit",
   "language": "python",
   "name": "python3"
  },
  "language_info": {
   "codemirror_mode": {
    "name": "ipython",
    "version": 3
   },
   "file_extension": ".py",
   "mimetype": "text/x-python",
   "name": "python",
   "nbconvert_exporter": "python",
   "pygments_lexer": "ipython3",
   "version": "3.8.2"
  },
  "orig_nbformat": 4,
  "vscode": {
   "interpreter": {
    "hash": "916dbcbb3f70747c44a77c7bcd40155683ae19c65e1c03b4aa3499c5328201f1"
   }
  }
 },
 "nbformat": 4,
 "nbformat_minor": 2
}
